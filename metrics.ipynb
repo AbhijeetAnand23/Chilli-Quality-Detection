{
  "cells": [
    {
      "cell_type": "code",
      "execution_count": 13,
      "id": "d2c2aa06",
      "metadata": {
        "id": "d2c2aa06"
      },
      "outputs": [],
      "source": [
        "import cv2\n",
        "import numpy as np\n",
        "import matplotlib.pyplot as plt"
      ]
    },
    {
      "cell_type": "code",
      "execution_count": 14,
      "id": "d05afe44",
      "metadata": {},
      "outputs": [],
      "source": [
        "def compute_leaf_metrics(segmented_image, mask):\n",
        "    mask = (mask > 0).astype(np.uint8)\n",
        "    leaf_pixels = cv2.bitwise_and(segmented_image, segmented_image, mask=mask)\n",
        "    hsv = cv2.cvtColor(leaf_pixels, cv2.COLOR_BGR2HSV)\n",
        "\n",
        "    total_leaf = np.count_nonzero(mask)\n",
        "\n",
        "    # -------------------------\n",
        "    # Healthy Green Coverage\n",
        "    # -------------------------\n",
        "    # lower_green = np.array([35, 40, 40])   # tighter range\n",
        "    # upper_green = np.array([85, 255, 255])\n",
        "    lower_green = np.array([40, 40, 40])   # H≈60°\n",
        "    upper_green = np.array([90, 255, 255]) # H≈140°\n",
        "    green_mask = cv2.inRange(hsv, lower_green, upper_green)\n",
        "\n",
        "    hgc = np.count_nonzero(green_mask) / total_leaf * 100\n",
        "\n",
        "    # -------------------------\n",
        "    # Yellow + Brown Coverage\n",
        "    # -------------------------\n",
        "    # yellow\n",
        "    lower_yellow = np.array([20, 40, 40])\n",
        "    upper_yellow = np.array([35, 255, 255])\n",
        "    yellow_mask = cv2.inRange(hsv, lower_yellow, upper_yellow)\n",
        "\n",
        "    # brown (low V, mid hue)\n",
        "    lower_brown = np.array([0, 30, 20])\n",
        "    upper_brown = np.array([30, 255, 100])\n",
        "    brown_mask = cv2.inRange(hsv, lower_brown, upper_brown)\n",
        "\n",
        "    yb_mask = cv2.bitwise_or(yellow_mask, brown_mask)\n",
        "    yb = np.count_nonzero(yb_mask) / total_leaf * 100\n",
        "\n",
        "    # -------------------------\n",
        "    # Damage %\n",
        "    # -------------------------\n",
        "    contours, _ = cv2.findContours(mask, cv2.RETR_EXTERNAL, cv2.CHAIN_APPROX_SIMPLE)\n",
        "    leaf_area = sum([cv2.contourArea(c) for c in contours])\n",
        "    hull = cv2.convexHull(np.vstack(contours))\n",
        "    hull_area = cv2.contourArea(hull)\n",
        "    dmg = (hull_area - leaf_area) / hull_area * 100\n",
        "    hci = leaf_area / hull_area\n",
        "\n",
        "    # -------------------------\n",
        "    # Foreign Matter %\n",
        "    # -------------------------\n",
        "    foreign_mask = mask.copy()\n",
        "    foreign_mask[green_mask > 0] = 0\n",
        "    foreign_mask[yb_mask > 0] = 0\n",
        "    fm = np.count_nonzero(foreign_mask) / total_leaf * 100\n",
        "\n",
        "    return {\n",
        "        \"HGC%\": round(hgc, 2),\n",
        "        \"YB%\": round(yb, 2),\n",
        "        \"DMG%\": round(dmg, 2),\n",
        "        \"HCI\": round(hci, 2),\n",
        "        \"FM%\": round(fm, 2)\n",
        "    }\n"
      ]
    },
    {
      "cell_type": "code",
      "execution_count": 15,
      "id": "1601ffee",
      "metadata": {},
      "outputs": [],
      "source": [
        "def metric_to_grade(metrics):\n",
        "    HGC = metrics['HGC%']\n",
        "    YB  = metrics['YB%']\n",
        "    DMG = metrics['DMG%']\n",
        "    HCI = metrics['HCI']\n",
        "    FM  = metrics['FM%']\n",
        "\n",
        "    # Healthy Green Coverage (HGC%)\n",
        "    if HGC >= 95:\n",
        "        g_HGC = 0\n",
        "    elif HGC >= 90:\n",
        "        g_HGC = 1\n",
        "    elif HGC >= 80:\n",
        "        g_HGC = 2\n",
        "    elif HGC >= 60:\n",
        "        g_HGC = 3\n",
        "    else:\n",
        "        g_HGC = 4\n",
        "\n",
        "    # Yellow/Brown Coverage (YB%)\n",
        "    if YB <= 1:\n",
        "        g_YB = 0\n",
        "    elif YB <= 3:\n",
        "        g_YB = 1\n",
        "    elif YB <= 7:\n",
        "        g_YB = 2\n",
        "    elif YB <= 15:\n",
        "        g_YB = 3\n",
        "    else:\n",
        "        g_YB = 4\n",
        "\n",
        "    # Damage %\n",
        "    if DMG <= 0.5:\n",
        "        g_DMG = 0\n",
        "    elif DMG <= 2:\n",
        "        g_DMG = 1\n",
        "    elif DMG <= 5:\n",
        "        g_DMG = 2\n",
        "    elif DMG <= 10:\n",
        "        g_DMG = 3\n",
        "    else:\n",
        "        g_DMG = 4\n",
        "\n",
        "    # Hull Convexity Index\n",
        "    if HCI >= 0.97:\n",
        "        g_HCI = 0\n",
        "    elif HCI >= 0.95:\n",
        "        g_HCI = 1\n",
        "    elif HCI >= 0.92:\n",
        "        g_HCI = 2\n",
        "    elif HCI >= 0.88:\n",
        "        g_HCI = 3\n",
        "    else:\n",
        "        g_HCI = 4\n",
        "\n",
        "    # Foreign Matter %\n",
        "    if FM <= 0.2:\n",
        "        g_FM = 0\n",
        "    elif FM <= 0.5:\n",
        "        g_FM = 1\n",
        "    elif FM <= 1.0:\n",
        "        g_FM = 2\n",
        "    elif FM <= 2.0:\n",
        "        g_FM = 3\n",
        "    else:\n",
        "        g_FM = 4\n",
        "\n",
        "    # Final grade = worst score (max now, since 0=best and 4=worst)\n",
        "    print(f\"g_HGC: {g_HGC}, g_YB: {g_YB}, g_DMG: {g_DMG}, g_HCI: {g_HCI}, g_FM: {g_FM}\")\n",
        "    final_grade = min(g_HGC, g_YB, g_DMG, g_HCI, g_FM)\n",
        "\n",
        "    return final_grade\n"
      ]
    },
    {
      "cell_type": "code",
      "execution_count": 19,
      "id": "BXMVYffzmbYy",
      "metadata": {
        "colab": {
          "base_uri": "https://localhost:8080/",
          "height": 428
        },
        "id": "BXMVYffzmbYy",
        "outputId": "e021c9f8-8d35-410f-fe2d-6f481d5d68c2"
      },
      "outputs": [
        {
          "data": {
            "image/png": "[encoded data removed]",
            "text/plain": [
              "<Figure size 640x480 with 1 Axes>"
            ]
          },
          "metadata": {},
          "output_type": "display_data"
        }
      ],
      "source": [
        "seg_img = cv2.imread(\"segmented/test2.JPG\")\n",
        "gray = cv2.cvtColor(seg_img, cv2.COLOR_BGR2GRAY)\n",
        "_, mask = cv2.threshold(gray, 1, 255, cv2.THRESH_BINARY)\n",
        "plt.imshow(mask, cmap=\"gray\")\n",
        "plt.title(\"Leaf Mask\")\n",
        "plt.axis(\"off\")\n",
        "plt.show()"
      ]
    },
    {
      "cell_type": "code",
      "execution_count": 20,
      "id": "kHHryJ3omK1B",
      "metadata": {
        "colab": {
          "base_uri": "https://localhost:8080/"
        },
        "id": "kHHryJ3omK1B",
        "outputId": "49a561c2-0458-4acb-f0f8-d1a0fccc1b85"
      },
      "outputs": [
        {
          "name": "stdout",
          "output_type": "stream",
          "text": [
            "{'HGC%': 79.47, 'YB%': 0.21, 'DMG%': 67.64, 'HCI': 0.32, 'FM%': 20.32}\n"
          ]
        }
      ],
      "source": [
        "metrics = compute_leaf_metrics(seg_img, mask)\n",
        "print(metrics)"
      ]
    },
    {
      "cell_type": "code",
      "execution_count": 21,
      "id": "ohTunYCiqgYB",
      "metadata": {
        "colab": {
          "base_uri": "https://localhost:8080/"
        },
        "id": "ohTunYCiqgYB",
        "outputId": "c076f2b6-ed60-4778-e7e8-47eb8df06b44"
      },
      "outputs": [
        {
          "name": "stdout",
          "output_type": "stream",
          "text": [
            "g_HGC: 3, g_YB: 0, g_DMG: 4, g_HCI: 4, g_FM: 4\n"
          ]
        },
        {
          "data": {
            "text/plain": [
              "0"
            ]
          },
          "execution_count": 21,
          "metadata": {},
          "output_type": "execute_result"
        }
      ],
      "source": [
        "metric_to_grade(metrics)"
      ]
    },
    {
      "cell_type": "code",
      "execution_count": 117,
      "id": "_67QF6-tqNKk",
      "metadata": {
        "id": "_67QF6-tqNKk"
      },
      "outputs": [],
      "source": []
    }
  ],
  "metadata": {
    "colab": {
      "provenance": []
    },
    "kernelspec": {
      "display_name": "Python 3",
      "language": "python",
      "name": "python3"
    },
    "language_info": {
      "codemirror_mode": {
        "name": "ipython",
        "version": 3
      },
      "file_extension": ".py",
      "mimetype": "text/x-python",
      "name": "python",
      "nbconvert_exporter": "python",
      "pygments_lexer": "ipython3",
      "version": "3.9.13"
    }
  },
  "nbformat": 4,
  "nbformat_minor": 5
}
